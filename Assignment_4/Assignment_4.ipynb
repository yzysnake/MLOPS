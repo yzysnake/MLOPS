{
 "cells": [
  {
   "cell_type": "markdown",
   "id": "946a58561062dd4b",
   "metadata": {},
   "source": [
    "# Assignment 4: Model Monitoring\n",
    "## Peter Ye"
   ]
  },
  {
   "cell_type": "code",
   "execution_count": null,
   "id": "4fc57e58500b5051",
   "metadata": {},
   "outputs": [],
   "source": [
    "import pandas as pd\n",
    "import numpy as np\n",
    "\n",
    "from sklearn.ensemble import AdaBoostRegressor\n",
    "from sklearn.tree import DecisionTreeRegressor\n",
    "from sklearn.metrics import r2_score\n",
    "\n",
    "from evidently import ColumnMapping\n",
    "from evidently.report import Report\n",
    "from evidently.metric_preset import DataDriftPreset, RegressionPreset"
   ]
  },
  {
   "cell_type": "markdown",
   "id": "548578c8fe91a2b3",
   "metadata": {},
   "source": [
    "## Load Data"
   ]
  },
  {
   "cell_type": "code",
   "execution_count": 2,
   "id": "5b77b1f7ade6ff45",
   "metadata": {
    "ExecuteTime": {
     "end_time": "2024-11-17T22:34:03.851547Z",
     "start_time": "2024-11-17T22:34:03.831824Z"
    }
   },
   "outputs": [],
   "source": [
    "CancerData = pd.read_csv('cancer_reg.csv', encoding='latin')"
   ]
  },
  {
   "cell_type": "markdown",
   "id": "92883952aaa6d3eb",
   "metadata": {},
   "source": [
    "## EDA"
   ]
  },
  {
   "cell_type": "markdown",
   "id": "24a6818996d47aa8",
   "metadata": {},
   "source": [
    "### Check data"
   ]
  },
  {
   "cell_type": "code",
   "execution_count": 3,
   "id": "98402c56f67cffab",
   "metadata": {
    "ExecuteTime": {
     "end_time": "2024-11-17T22:34:10.236365Z",
     "start_time": "2024-11-17T22:34:10.223803Z"
    }
   },
   "outputs": [
    {
     "data": {
      "text/html": [
       "<div>\n",
       "<style scoped>\n",
       "    .dataframe tbody tr th:only-of-type {\n",
       "        vertical-align: middle;\n",
       "    }\n",
       "\n",
       "    .dataframe tbody tr th {\n",
       "        vertical-align: top;\n",
       "    }\n",
       "\n",
       "    .dataframe thead th {\n",
       "        text-align: right;\n",
       "    }\n",
       "</style>\n",
       "<table border=\"1\" class=\"dataframe\">\n",
       "  <thead>\n",
       "    <tr style=\"text-align: right;\">\n",
       "      <th></th>\n",
       "      <th>avgAnnCount</th>\n",
       "      <th>avgDeathsPerYear</th>\n",
       "      <th>TARGET_deathRate</th>\n",
       "      <th>incidenceRate</th>\n",
       "      <th>medIncome</th>\n",
       "      <th>popEst2015</th>\n",
       "      <th>povertyPercent</th>\n",
       "      <th>studyPerCap</th>\n",
       "      <th>binnedInc</th>\n",
       "      <th>MedianAge</th>\n",
       "      <th>...</th>\n",
       "      <th>PctPrivateCoverageAlone</th>\n",
       "      <th>PctEmpPrivCoverage</th>\n",
       "      <th>PctPublicCoverage</th>\n",
       "      <th>PctPublicCoverageAlone</th>\n",
       "      <th>PctWhite</th>\n",
       "      <th>PctBlack</th>\n",
       "      <th>PctAsian</th>\n",
       "      <th>PctOtherRace</th>\n",
       "      <th>PctMarriedHouseholds</th>\n",
       "      <th>BirthRate</th>\n",
       "    </tr>\n",
       "  </thead>\n",
       "  <tbody>\n",
       "    <tr>\n",
       "      <th>0</th>\n",
       "      <td>1397.0</td>\n",
       "      <td>469</td>\n",
       "      <td>164.9</td>\n",
       "      <td>489.8</td>\n",
       "      <td>61898</td>\n",
       "      <td>260131</td>\n",
       "      <td>11.2</td>\n",
       "      <td>499.748204</td>\n",
       "      <td>(61494.5, 125635]</td>\n",
       "      <td>39.3</td>\n",
       "      <td>...</td>\n",
       "      <td>NaN</td>\n",
       "      <td>41.6</td>\n",
       "      <td>32.9</td>\n",
       "      <td>14.0</td>\n",
       "      <td>81.780529</td>\n",
       "      <td>2.594728</td>\n",
       "      <td>4.821857</td>\n",
       "      <td>1.843479</td>\n",
       "      <td>52.856076</td>\n",
       "      <td>6.118831</td>\n",
       "    </tr>\n",
       "    <tr>\n",
       "      <th>1</th>\n",
       "      <td>173.0</td>\n",
       "      <td>70</td>\n",
       "      <td>161.3</td>\n",
       "      <td>411.6</td>\n",
       "      <td>48127</td>\n",
       "      <td>43269</td>\n",
       "      <td>18.6</td>\n",
       "      <td>23.111234</td>\n",
       "      <td>(48021.6, 51046.4]</td>\n",
       "      <td>33.0</td>\n",
       "      <td>...</td>\n",
       "      <td>53.8</td>\n",
       "      <td>43.6</td>\n",
       "      <td>31.1</td>\n",
       "      <td>15.3</td>\n",
       "      <td>89.228509</td>\n",
       "      <td>0.969102</td>\n",
       "      <td>2.246233</td>\n",
       "      <td>3.741352</td>\n",
       "      <td>45.372500</td>\n",
       "      <td>4.333096</td>\n",
       "    </tr>\n",
       "    <tr>\n",
       "      <th>2</th>\n",
       "      <td>102.0</td>\n",
       "      <td>50</td>\n",
       "      <td>174.7</td>\n",
       "      <td>349.7</td>\n",
       "      <td>49348</td>\n",
       "      <td>21026</td>\n",
       "      <td>14.6</td>\n",
       "      <td>47.560164</td>\n",
       "      <td>(48021.6, 51046.4]</td>\n",
       "      <td>45.0</td>\n",
       "      <td>...</td>\n",
       "      <td>43.5</td>\n",
       "      <td>34.9</td>\n",
       "      <td>42.1</td>\n",
       "      <td>21.1</td>\n",
       "      <td>90.922190</td>\n",
       "      <td>0.739673</td>\n",
       "      <td>0.465898</td>\n",
       "      <td>2.747358</td>\n",
       "      <td>54.444868</td>\n",
       "      <td>3.729488</td>\n",
       "    </tr>\n",
       "    <tr>\n",
       "      <th>3</th>\n",
       "      <td>427.0</td>\n",
       "      <td>202</td>\n",
       "      <td>194.8</td>\n",
       "      <td>430.4</td>\n",
       "      <td>44243</td>\n",
       "      <td>75882</td>\n",
       "      <td>17.1</td>\n",
       "      <td>342.637253</td>\n",
       "      <td>(42724.4, 45201]</td>\n",
       "      <td>42.8</td>\n",
       "      <td>...</td>\n",
       "      <td>40.3</td>\n",
       "      <td>35.0</td>\n",
       "      <td>45.3</td>\n",
       "      <td>25.0</td>\n",
       "      <td>91.744686</td>\n",
       "      <td>0.782626</td>\n",
       "      <td>1.161359</td>\n",
       "      <td>1.362643</td>\n",
       "      <td>51.021514</td>\n",
       "      <td>4.603841</td>\n",
       "    </tr>\n",
       "    <tr>\n",
       "      <th>4</th>\n",
       "      <td>57.0</td>\n",
       "      <td>26</td>\n",
       "      <td>144.4</td>\n",
       "      <td>350.1</td>\n",
       "      <td>49955</td>\n",
       "      <td>10321</td>\n",
       "      <td>12.5</td>\n",
       "      <td>0.000000</td>\n",
       "      <td>(48021.6, 51046.4]</td>\n",
       "      <td>48.3</td>\n",
       "      <td>...</td>\n",
       "      <td>43.9</td>\n",
       "      <td>35.1</td>\n",
       "      <td>44.0</td>\n",
       "      <td>22.7</td>\n",
       "      <td>94.104024</td>\n",
       "      <td>0.270192</td>\n",
       "      <td>0.665830</td>\n",
       "      <td>0.492135</td>\n",
       "      <td>54.027460</td>\n",
       "      <td>6.796657</td>\n",
       "    </tr>\n",
       "  </tbody>\n",
       "</table>\n",
       "<p>5 rows × 34 columns</p>\n",
       "</div>"
      ],
      "text/plain": [
       "   avgAnnCount  avgDeathsPerYear  TARGET_deathRate  incidenceRate  medIncome  \\\n",
       "0       1397.0               469             164.9          489.8      61898   \n",
       "1        173.0                70             161.3          411.6      48127   \n",
       "2        102.0                50             174.7          349.7      49348   \n",
       "3        427.0               202             194.8          430.4      44243   \n",
       "4         57.0                26             144.4          350.1      49955   \n",
       "\n",
       "   popEst2015  povertyPercent  studyPerCap           binnedInc  MedianAge  \\\n",
       "0      260131            11.2   499.748204   (61494.5, 125635]       39.3   \n",
       "1       43269            18.6    23.111234  (48021.6, 51046.4]       33.0   \n",
       "2       21026            14.6    47.560164  (48021.6, 51046.4]       45.0   \n",
       "3       75882            17.1   342.637253    (42724.4, 45201]       42.8   \n",
       "4       10321            12.5     0.000000  (48021.6, 51046.4]       48.3   \n",
       "\n",
       "   ...  PctPrivateCoverageAlone  PctEmpPrivCoverage PctPublicCoverage  \\\n",
       "0  ...                      NaN                41.6              32.9   \n",
       "1  ...                     53.8                43.6              31.1   \n",
       "2  ...                     43.5                34.9              42.1   \n",
       "3  ...                     40.3                35.0              45.3   \n",
       "4  ...                     43.9                35.1              44.0   \n",
       "\n",
       "   PctPublicCoverageAlone   PctWhite  PctBlack  PctAsian  PctOtherRace  \\\n",
       "0                    14.0  81.780529  2.594728  4.821857      1.843479   \n",
       "1                    15.3  89.228509  0.969102  2.246233      3.741352   \n",
       "2                    21.1  90.922190  0.739673  0.465898      2.747358   \n",
       "3                    25.0  91.744686  0.782626  1.161359      1.362643   \n",
       "4                    22.7  94.104024  0.270192  0.665830      0.492135   \n",
       "\n",
       "   PctMarriedHouseholds  BirthRate  \n",
       "0             52.856076   6.118831  \n",
       "1             45.372500   4.333096  \n",
       "2             54.444868   3.729488  \n",
       "3             51.021514   4.603841  \n",
       "4             54.027460   6.796657  \n",
       "\n",
       "[5 rows x 34 columns]"
      ]
     },
     "execution_count": 3,
     "metadata": {},
     "output_type": "execute_result"
    }
   ],
   "source": [
    "CancerData.head()"
   ]
  },
  {
   "cell_type": "markdown",
   "id": "3b12ecfb4af6048",
   "metadata": {},
   "source": [
    "## "
   ]
  },
  {
   "cell_type": "code",
   "execution_count": 4,
   "id": "588922abab958f71",
   "metadata": {
    "ExecuteTime": {
     "end_time": "2024-11-17T22:35:09.858160Z",
     "start_time": "2024-11-17T22:35:09.855089Z"
    }
   },
   "outputs": [
    {
     "data": {
      "text/plain": [
       "(3047, 34)"
      ]
     },
     "execution_count": 4,
     "metadata": {},
     "output_type": "execute_result"
    }
   ],
   "source": [
    "CancerData.shape"
   ]
  },
  {
   "cell_type": "code",
   "execution_count": 5,
   "id": "1bfae80718aecb28",
   "metadata": {
    "ExecuteTime": {
     "end_time": "2024-11-17T22:35:18.649668Z",
     "start_time": "2024-11-17T22:35:18.646356Z"
    }
   },
   "outputs": [
    {
     "data": {
      "text/plain": [
       "Index(['avgAnnCount', 'avgDeathsPerYear', 'TARGET_deathRate', 'incidenceRate',\n",
       "       'medIncome', 'popEst2015', 'povertyPercent', 'studyPerCap', 'binnedInc',\n",
       "       'MedianAge', 'MedianAgeMale', 'MedianAgeFemale', 'Geography',\n",
       "       'AvgHouseholdSize', 'PercentMarried', 'PctNoHS18_24', 'PctHS18_24',\n",
       "       'PctSomeCol18_24', 'PctBachDeg18_24', 'PctHS25_Over',\n",
       "       'PctBachDeg25_Over', 'PctEmployed16_Over', 'PctUnemployed16_Over',\n",
       "       'PctPrivateCoverage', 'PctPrivateCoverageAlone', 'PctEmpPrivCoverage',\n",
       "       'PctPublicCoverage', 'PctPublicCoverageAlone', 'PctWhite', 'PctBlack',\n",
       "       'PctAsian', 'PctOtherRace', 'PctMarriedHouseholds', 'BirthRate'],\n",
       "      dtype='object')"
      ]
     },
     "execution_count": 5,
     "metadata": {},
     "output_type": "execute_result"
    }
   ],
   "source": [
    "CancerData.columns"
   ]
  },
  {
   "cell_type": "code",
   "execution_count": 6,
   "id": "b222e9c9a12f2695",
   "metadata": {
    "ExecuteTime": {
     "end_time": "2024-11-17T22:35:44.328005Z",
     "start_time": "2024-11-17T22:35:44.298802Z"
    }
   },
   "outputs": [
    {
     "data": {
      "text/html": [
       "<div>\n",
       "<style scoped>\n",
       "    .dataframe tbody tr th:only-of-type {\n",
       "        vertical-align: middle;\n",
       "    }\n",
       "\n",
       "    .dataframe tbody tr th {\n",
       "        vertical-align: top;\n",
       "    }\n",
       "\n",
       "    .dataframe thead th {\n",
       "        text-align: right;\n",
       "    }\n",
       "</style>\n",
       "<table border=\"1\" class=\"dataframe\">\n",
       "  <thead>\n",
       "    <tr style=\"text-align: right;\">\n",
       "      <th></th>\n",
       "      <th>avgAnnCount</th>\n",
       "      <th>avgDeathsPerYear</th>\n",
       "      <th>TARGET_deathRate</th>\n",
       "      <th>incidenceRate</th>\n",
       "      <th>medIncome</th>\n",
       "      <th>popEst2015</th>\n",
       "      <th>povertyPercent</th>\n",
       "      <th>studyPerCap</th>\n",
       "      <th>MedianAge</th>\n",
       "      <th>MedianAgeMale</th>\n",
       "      <th>...</th>\n",
       "      <th>PctPrivateCoverageAlone</th>\n",
       "      <th>PctEmpPrivCoverage</th>\n",
       "      <th>PctPublicCoverage</th>\n",
       "      <th>PctPublicCoverageAlone</th>\n",
       "      <th>PctWhite</th>\n",
       "      <th>PctBlack</th>\n",
       "      <th>PctAsian</th>\n",
       "      <th>PctOtherRace</th>\n",
       "      <th>PctMarriedHouseholds</th>\n",
       "      <th>BirthRate</th>\n",
       "    </tr>\n",
       "  </thead>\n",
       "  <tbody>\n",
       "    <tr>\n",
       "      <th>count</th>\n",
       "      <td>3047.000000</td>\n",
       "      <td>3047.000000</td>\n",
       "      <td>3047.000000</td>\n",
       "      <td>3047.000000</td>\n",
       "      <td>3047.000000</td>\n",
       "      <td>3.047000e+03</td>\n",
       "      <td>3047.000000</td>\n",
       "      <td>3047.000000</td>\n",
       "      <td>3047.000000</td>\n",
       "      <td>3047.000000</td>\n",
       "      <td>...</td>\n",
       "      <td>2438.000000</td>\n",
       "      <td>3047.000000</td>\n",
       "      <td>3047.000000</td>\n",
       "      <td>3047.000000</td>\n",
       "      <td>3047.000000</td>\n",
       "      <td>3047.000000</td>\n",
       "      <td>3047.000000</td>\n",
       "      <td>3047.000000</td>\n",
       "      <td>3047.000000</td>\n",
       "      <td>3047.000000</td>\n",
       "    </tr>\n",
       "    <tr>\n",
       "      <th>mean</th>\n",
       "      <td>606.338544</td>\n",
       "      <td>185.965868</td>\n",
       "      <td>178.664063</td>\n",
       "      <td>448.268586</td>\n",
       "      <td>47063.281917</td>\n",
       "      <td>1.026374e+05</td>\n",
       "      <td>16.878175</td>\n",
       "      <td>155.399415</td>\n",
       "      <td>45.272333</td>\n",
       "      <td>39.570725</td>\n",
       "      <td>...</td>\n",
       "      <td>48.453774</td>\n",
       "      <td>41.196324</td>\n",
       "      <td>36.252642</td>\n",
       "      <td>19.240072</td>\n",
       "      <td>83.645286</td>\n",
       "      <td>9.107978</td>\n",
       "      <td>1.253965</td>\n",
       "      <td>1.983523</td>\n",
       "      <td>51.243872</td>\n",
       "      <td>5.640306</td>\n",
       "    </tr>\n",
       "    <tr>\n",
       "      <th>std</th>\n",
       "      <td>1416.356223</td>\n",
       "      <td>504.134286</td>\n",
       "      <td>27.751511</td>\n",
       "      <td>54.560733</td>\n",
       "      <td>12040.090836</td>\n",
       "      <td>3.290592e+05</td>\n",
       "      <td>6.409087</td>\n",
       "      <td>529.628366</td>\n",
       "      <td>45.304480</td>\n",
       "      <td>5.226017</td>\n",
       "      <td>...</td>\n",
       "      <td>10.083006</td>\n",
       "      <td>9.447687</td>\n",
       "      <td>7.841741</td>\n",
       "      <td>6.113041</td>\n",
       "      <td>16.380025</td>\n",
       "      <td>14.534538</td>\n",
       "      <td>2.610276</td>\n",
       "      <td>3.517710</td>\n",
       "      <td>6.572814</td>\n",
       "      <td>1.985816</td>\n",
       "    </tr>\n",
       "    <tr>\n",
       "      <th>min</th>\n",
       "      <td>6.000000</td>\n",
       "      <td>3.000000</td>\n",
       "      <td>59.700000</td>\n",
       "      <td>201.300000</td>\n",
       "      <td>22640.000000</td>\n",
       "      <td>8.270000e+02</td>\n",
       "      <td>3.200000</td>\n",
       "      <td>0.000000</td>\n",
       "      <td>22.300000</td>\n",
       "      <td>22.400000</td>\n",
       "      <td>...</td>\n",
       "      <td>15.700000</td>\n",
       "      <td>13.500000</td>\n",
       "      <td>11.200000</td>\n",
       "      <td>2.600000</td>\n",
       "      <td>10.199155</td>\n",
       "      <td>0.000000</td>\n",
       "      <td>0.000000</td>\n",
       "      <td>0.000000</td>\n",
       "      <td>22.992490</td>\n",
       "      <td>0.000000</td>\n",
       "    </tr>\n",
       "    <tr>\n",
       "      <th>25%</th>\n",
       "      <td>76.000000</td>\n",
       "      <td>28.000000</td>\n",
       "      <td>161.200000</td>\n",
       "      <td>420.300000</td>\n",
       "      <td>38882.500000</td>\n",
       "      <td>1.168400e+04</td>\n",
       "      <td>12.150000</td>\n",
       "      <td>0.000000</td>\n",
       "      <td>37.700000</td>\n",
       "      <td>36.350000</td>\n",
       "      <td>...</td>\n",
       "      <td>41.000000</td>\n",
       "      <td>34.500000</td>\n",
       "      <td>30.900000</td>\n",
       "      <td>14.850000</td>\n",
       "      <td>77.296180</td>\n",
       "      <td>0.620675</td>\n",
       "      <td>0.254199</td>\n",
       "      <td>0.295172</td>\n",
       "      <td>47.763063</td>\n",
       "      <td>4.521419</td>\n",
       "    </tr>\n",
       "    <tr>\n",
       "      <th>50%</th>\n",
       "      <td>171.000000</td>\n",
       "      <td>61.000000</td>\n",
       "      <td>178.100000</td>\n",
       "      <td>453.549422</td>\n",
       "      <td>45207.000000</td>\n",
       "      <td>2.664300e+04</td>\n",
       "      <td>15.900000</td>\n",
       "      <td>0.000000</td>\n",
       "      <td>41.000000</td>\n",
       "      <td>39.600000</td>\n",
       "      <td>...</td>\n",
       "      <td>48.700000</td>\n",
       "      <td>41.100000</td>\n",
       "      <td>36.300000</td>\n",
       "      <td>18.800000</td>\n",
       "      <td>90.059774</td>\n",
       "      <td>2.247576</td>\n",
       "      <td>0.549812</td>\n",
       "      <td>0.826185</td>\n",
       "      <td>51.669941</td>\n",
       "      <td>5.381478</td>\n",
       "    </tr>\n",
       "    <tr>\n",
       "      <th>75%</th>\n",
       "      <td>518.000000</td>\n",
       "      <td>149.000000</td>\n",
       "      <td>195.200000</td>\n",
       "      <td>480.850000</td>\n",
       "      <td>52492.000000</td>\n",
       "      <td>6.867100e+04</td>\n",
       "      <td>20.400000</td>\n",
       "      <td>83.650776</td>\n",
       "      <td>44.000000</td>\n",
       "      <td>42.500000</td>\n",
       "      <td>...</td>\n",
       "      <td>55.600000</td>\n",
       "      <td>47.700000</td>\n",
       "      <td>41.550000</td>\n",
       "      <td>23.100000</td>\n",
       "      <td>95.451693</td>\n",
       "      <td>10.509732</td>\n",
       "      <td>1.221037</td>\n",
       "      <td>2.177960</td>\n",
       "      <td>55.395132</td>\n",
       "      <td>6.493677</td>\n",
       "    </tr>\n",
       "    <tr>\n",
       "      <th>max</th>\n",
       "      <td>38150.000000</td>\n",
       "      <td>14010.000000</td>\n",
       "      <td>362.800000</td>\n",
       "      <td>1206.900000</td>\n",
       "      <td>125635.000000</td>\n",
       "      <td>1.017029e+07</td>\n",
       "      <td>47.400000</td>\n",
       "      <td>9762.308998</td>\n",
       "      <td>624.000000</td>\n",
       "      <td>64.700000</td>\n",
       "      <td>...</td>\n",
       "      <td>78.900000</td>\n",
       "      <td>70.700000</td>\n",
       "      <td>65.100000</td>\n",
       "      <td>46.600000</td>\n",
       "      <td>100.000000</td>\n",
       "      <td>85.947799</td>\n",
       "      <td>42.619425</td>\n",
       "      <td>41.930251</td>\n",
       "      <td>78.075397</td>\n",
       "      <td>21.326165</td>\n",
       "    </tr>\n",
       "  </tbody>\n",
       "</table>\n",
       "<p>8 rows × 32 columns</p>\n",
       "</div>"
      ],
      "text/plain": [
       "        avgAnnCount  avgDeathsPerYear  TARGET_deathRate  incidenceRate  \\\n",
       "count   3047.000000       3047.000000       3047.000000    3047.000000   \n",
       "mean     606.338544        185.965868        178.664063     448.268586   \n",
       "std     1416.356223        504.134286         27.751511      54.560733   \n",
       "min        6.000000          3.000000         59.700000     201.300000   \n",
       "25%       76.000000         28.000000        161.200000     420.300000   \n",
       "50%      171.000000         61.000000        178.100000     453.549422   \n",
       "75%      518.000000        149.000000        195.200000     480.850000   \n",
       "max    38150.000000      14010.000000        362.800000    1206.900000   \n",
       "\n",
       "           medIncome    popEst2015  povertyPercent  studyPerCap    MedianAge  \\\n",
       "count    3047.000000  3.047000e+03     3047.000000  3047.000000  3047.000000   \n",
       "mean    47063.281917  1.026374e+05       16.878175   155.399415    45.272333   \n",
       "std     12040.090836  3.290592e+05        6.409087   529.628366    45.304480   \n",
       "min     22640.000000  8.270000e+02        3.200000     0.000000    22.300000   \n",
       "25%     38882.500000  1.168400e+04       12.150000     0.000000    37.700000   \n",
       "50%     45207.000000  2.664300e+04       15.900000     0.000000    41.000000   \n",
       "75%     52492.000000  6.867100e+04       20.400000    83.650776    44.000000   \n",
       "max    125635.000000  1.017029e+07       47.400000  9762.308998   624.000000   \n",
       "\n",
       "       MedianAgeMale  ...  PctPrivateCoverageAlone  PctEmpPrivCoverage  \\\n",
       "count    3047.000000  ...              2438.000000         3047.000000   \n",
       "mean       39.570725  ...                48.453774           41.196324   \n",
       "std         5.226017  ...                10.083006            9.447687   \n",
       "min        22.400000  ...                15.700000           13.500000   \n",
       "25%        36.350000  ...                41.000000           34.500000   \n",
       "50%        39.600000  ...                48.700000           41.100000   \n",
       "75%        42.500000  ...                55.600000           47.700000   \n",
       "max        64.700000  ...                78.900000           70.700000   \n",
       "\n",
       "       PctPublicCoverage  PctPublicCoverageAlone     PctWhite     PctBlack  \\\n",
       "count        3047.000000             3047.000000  3047.000000  3047.000000   \n",
       "mean           36.252642               19.240072    83.645286     9.107978   \n",
       "std             7.841741                6.113041    16.380025    14.534538   \n",
       "min            11.200000                2.600000    10.199155     0.000000   \n",
       "25%            30.900000               14.850000    77.296180     0.620675   \n",
       "50%            36.300000               18.800000    90.059774     2.247576   \n",
       "75%            41.550000               23.100000    95.451693    10.509732   \n",
       "max            65.100000               46.600000   100.000000    85.947799   \n",
       "\n",
       "          PctAsian  PctOtherRace  PctMarriedHouseholds    BirthRate  \n",
       "count  3047.000000   3047.000000           3047.000000  3047.000000  \n",
       "mean      1.253965      1.983523             51.243872     5.640306  \n",
       "std       2.610276      3.517710              6.572814     1.985816  \n",
       "min       0.000000      0.000000             22.992490     0.000000  \n",
       "25%       0.254199      0.295172             47.763063     4.521419  \n",
       "50%       0.549812      0.826185             51.669941     5.381478  \n",
       "75%       1.221037      2.177960             55.395132     6.493677  \n",
       "max      42.619425     41.930251             78.075397    21.326165  \n",
       "\n",
       "[8 rows x 32 columns]"
      ]
     },
     "execution_count": 6,
     "metadata": {},
     "output_type": "execute_result"
    }
   ],
   "source": [
    "CancerData.describe()"
   ]
  },
  {
   "cell_type": "code",
   "execution_count": 7,
   "id": "b8c106a81ac8b0da",
   "metadata": {
    "ExecuteTime": {
     "end_time": "2024-11-17T22:35:57.733975Z",
     "start_time": "2024-11-17T22:35:57.729665Z"
    }
   },
   "outputs": [
    {
     "data": {
      "text/plain": [
       "avgAnnCount                   0\n",
       "avgDeathsPerYear              0\n",
       "TARGET_deathRate              0\n",
       "incidenceRate                 0\n",
       "medIncome                     0\n",
       "popEst2015                    0\n",
       "povertyPercent                0\n",
       "studyPerCap                   0\n",
       "binnedInc                     0\n",
       "MedianAge                     0\n",
       "MedianAgeMale                 0\n",
       "MedianAgeFemale               0\n",
       "Geography                     0\n",
       "AvgHouseholdSize              0\n",
       "PercentMarried                0\n",
       "PctNoHS18_24                  0\n",
       "PctHS18_24                    0\n",
       "PctSomeCol18_24            2285\n",
       "PctBachDeg18_24               0\n",
       "PctHS25_Over                  0\n",
       "PctBachDeg25_Over             0\n",
       "PctEmployed16_Over          152\n",
       "PctUnemployed16_Over          0\n",
       "PctPrivateCoverage            0\n",
       "PctPrivateCoverageAlone     609\n",
       "PctEmpPrivCoverage            0\n",
       "PctPublicCoverage             0\n",
       "PctPublicCoverageAlone        0\n",
       "PctWhite                      0\n",
       "PctBlack                      0\n",
       "PctAsian                      0\n",
       "PctOtherRace                  0\n",
       "PctMarriedHouseholds          0\n",
       "BirthRate                     0\n",
       "dtype: int64"
      ]
     },
     "execution_count": 7,
     "metadata": {},
     "output_type": "execute_result"
    }
   ],
   "source": [
    "# Check null value\n",
    "CancerData.isna().sum()"
   ]
  },
  {
   "cell_type": "markdown",
   "id": "c42c2ce6c1420158",
   "metadata": {},
   "source": [
    "### Drop unnecessary columns"
   ]
  },
  {
   "cell_type": "code",
   "execution_count": 8,
   "id": "4c0bebdd0b303842",
   "metadata": {
    "ExecuteTime": {
     "end_time": "2024-11-17T22:38:48.352537Z",
     "start_time": "2024-11-17T22:38:48.349091Z"
    }
   },
   "outputs": [],
   "source": [
    "CancerData.drop(['PctPrivateCoverageAlone', 'PctSomeCol18_24', 'Geography'], axis=1, inplace=True)"
   ]
  },
  {
   "cell_type": "markdown",
   "id": "913c6c87fa674724",
   "metadata": {},
   "source": [
    "### Check missing value"
   ]
  },
  {
   "cell_type": "code",
   "execution_count": 9,
   "id": "97213b3e97c064da",
   "metadata": {
    "ExecuteTime": {
     "end_time": "2024-11-17T22:40:23.029459Z",
     "start_time": "2024-11-17T22:40:23.024571Z"
    }
   },
   "outputs": [
    {
     "data": {
      "text/plain": [
       "avgAnnCount                 0\n",
       "avgDeathsPerYear            0\n",
       "TARGET_deathRate            0\n",
       "incidenceRate               0\n",
       "medIncome                   0\n",
       "popEst2015                  0\n",
       "povertyPercent              0\n",
       "studyPerCap                 0\n",
       "binnedInc                   0\n",
       "MedianAge                   0\n",
       "MedianAgeMale               0\n",
       "MedianAgeFemale             0\n",
       "AvgHouseholdSize            0\n",
       "PercentMarried              0\n",
       "PctNoHS18_24                0\n",
       "PctHS18_24                  0\n",
       "PctBachDeg18_24             0\n",
       "PctHS25_Over                0\n",
       "PctBachDeg25_Over           0\n",
       "PctEmployed16_Over        152\n",
       "PctUnemployed16_Over        0\n",
       "PctPrivateCoverage          0\n",
       "PctEmpPrivCoverage          0\n",
       "PctPublicCoverage           0\n",
       "PctPublicCoverageAlone      0\n",
       "PctWhite                    0\n",
       "PctBlack                    0\n",
       "PctAsian                    0\n",
       "PctOtherRace                0\n",
       "PctMarriedHouseholds        0\n",
       "BirthRate                   0\n",
       "dtype: int64"
      ]
     },
     "execution_count": 9,
     "metadata": {},
     "output_type": "execute_result"
    }
   ],
   "source": [
    "CancerData.isna().sum()"
   ]
  },
  {
   "cell_type": "code",
   "execution_count": 10,
   "id": "1ee7a9053da763e4",
   "metadata": {
    "ExecuteTime": {
     "end_time": "2024-11-17T22:40:38.914663Z",
     "start_time": "2024-11-17T22:40:38.910809Z"
    }
   },
   "outputs": [],
   "source": [
    "# Fill it with median value\n",
    "CancerData['PctEmployed16_Over'] = CancerData['PctEmployed16_Over'].fillna(CancerData['PctEmployed16_Over'].median())"
   ]
  },
  {
   "cell_type": "markdown",
   "id": "24cf1bcb60e3dfcc",
   "metadata": {},
   "source": [
    "### Mapping the object variable to Numeric: 'binnedInc'"
   ]
  },
  {
   "cell_type": "code",
   "execution_count": 11,
   "id": "7fc73117ca0196f3",
   "metadata": {
    "ExecuteTime": {
     "end_time": "2024-11-17T22:41:37.754274Z",
     "start_time": "2024-11-17T22:41:37.751735Z"
    }
   },
   "outputs": [],
   "source": [
    "MapResult = {'(61494.5, 125635]':10, '(48021.6, 51046.4]':7, '(42724.4, 45201]':5,\n",
    "       '(51046.4, 54545.6]':8, '(37413.8, 40362.7]':3, '(40362.7, 42724.4]':4,\n",
    "       '(54545.6, 61494.5]':9, '(34218.1, 37413.8]':2, '[22640, 34218.1]':1,\n",
    "       '(45201, 48021.6]':6}"
   ]
  },
  {
   "cell_type": "code",
   "execution_count": 12,
   "id": "91600c2056383a59",
   "metadata": {
    "ExecuteTime": {
     "end_time": "2024-11-17T22:41:38.316472Z",
     "start_time": "2024-11-17T22:41:38.312481Z"
    }
   },
   "outputs": [],
   "source": [
    "CancerData['binnedInc'] = CancerData['binnedInc'].map(MapResult)"
   ]
  },
  {
   "cell_type": "markdown",
   "id": "75d3b732637cc323",
   "metadata": {},
   "source": [
    "### Select predictors and target variable"
   ]
  },
  {
   "cell_type": "code",
   "execution_count": 40,
   "id": "9002e31cce52b8a5",
   "metadata": {
    "ExecuteTime": {
     "end_time": "2024-11-17T23:20:36.075672Z",
     "start_time": "2024-11-17T23:20:36.071398Z"
    }
   },
   "outputs": [],
   "source": [
    "Predictors = ['PctBachDeg25_Over', 'incidenceRate',\n",
    "       'PctPublicCoverageAlone', 'povertyPercent', 'medIncome',\n",
    "       'PctEmployed16_Over', 'PctHS25_Over', 'PctPublicCoverage',\n",
    "       'PctPrivateCoverage', 'PctUnemployed16_Over', 'PctMarriedHouseholds',\n",
    "       'PctBachDeg18_24', 'PctEmpPrivCoverage', 'PercentMarried', 'PctHS18_24',\n",
    "       'PctBlack', 'binnedInc', 'AvgHouseholdSize']\n",
    "Target = ['TARGET_deathRate']\n",
    "X = CancerData[Predictors].values\n",
    "y = CancerData[Target].values"
   ]
  },
  {
   "cell_type": "markdown",
   "id": "cd7da09e20ba2e70",
   "metadata": {},
   "source": [
    "## Train a model"
   ]
  },
  {
   "cell_type": "markdown",
   "id": "618359531682c2ab",
   "metadata": {},
   "source": [
    "### Split data "
   ]
  },
  {
   "cell_type": "code",
   "execution_count": 41,
   "id": "c38ca04e76e8aef2",
   "metadata": {
    "ExecuteTime": {
     "end_time": "2024-11-17T23:20:37.494523Z",
     "start_time": "2024-11-17T23:20:37.490787Z"
    }
   },
   "outputs": [],
   "source": [
    "from sklearn.model_selection import train_test_split\n",
    "X_train, X_test, y_train, y_test = train_test_split(X,y,test_size = 0.2, random_state = 42)"
   ]
  },
  {
   "cell_type": "code",
   "execution_count": 42,
   "id": "8ef047f98c4cd77d",
   "metadata": {
    "ExecuteTime": {
     "end_time": "2024-11-17T23:20:37.976897Z",
     "start_time": "2024-11-17T23:20:37.973892Z"
    }
   },
   "outputs": [
    {
     "name": "stdout",
     "output_type": "stream",
     "text": [
      "(2437, 18)\n",
      "(2437, 1)\n",
      "(610, 18)\n",
      "(610, 1)\n"
     ]
    }
   ],
   "source": [
    "print(X_train.shape)\n",
    "print(y_train.shape)\n",
    "print(X_test.shape)\n",
    "print(y_test.shape)"
   ]
  },
  {
   "cell_type": "markdown",
   "id": "1ff34f5a50183283",
   "metadata": {},
   "source": [
    "### Adaboost"
   ]
  },
  {
   "cell_type": "code",
   "execution_count": 43,
   "id": "2d32b0b9e4e69f4d",
   "metadata": {
    "ExecuteTime": {
     "end_time": "2024-11-17T23:20:42.371413Z",
     "start_time": "2024-11-17T23:20:39.092938Z"
    }
   },
   "outputs": [
    {
     "name": "stdout",
     "output_type": "stream",
     "text": [
      "R2 value 0.8824072553949001\n",
      "Accuracy 91.69603339929691\n"
     ]
    }
   ],
   "source": [
    "# Ensure y_train and y_test are 1D\n",
    "y_train = y_train.ravel()\n",
    "y_test = y_test.ravel()\n",
    "\n",
    "# Train model\n",
    "dt = DecisionTreeRegressor(max_depth=10)\n",
    "adab = AdaBoostRegressor(n_estimators=200, estimator=dt, learning_rate=0.01)\n",
    "adabRegModel = adab.fit(X_train, y_train)\n",
    "adabPrediction = adabRegModel.predict(X_test)\n",
    "\n",
    "print('R2 value', r2_score(y_train, adabRegModel.predict(X_train)))\n",
    "print('Accuracy', 100 - (np.mean((np.abs(y_test - adabPrediction) / y_test)) * 100))"
   ]
  },
  {
   "cell_type": "markdown",
   "id": "3c62c0bc752f0dbe",
   "metadata": {},
   "source": [
    "## Model Monitoring"
   ]
  },
  {
   "cell_type": "markdown",
   "id": "22c8e07c6c684cac",
   "metadata": {},
   "source": [
    "### initial report"
   ]
  },
  {
   "cell_type": "code",
   "execution_count": 45,
   "id": "c79fca6e2b3ab06a",
   "metadata": {
    "ExecuteTime": {
     "end_time": "2024-11-17T23:20:54.989318Z",
     "start_time": "2024-11-17T23:20:54.937542Z"
    }
   },
   "outputs": [],
   "source": [
    "# Create DataFrames with column names\n",
    "X_train_df = pd.DataFrame(X_train, columns=Predictors)\n",
    "X_test_df = pd.DataFrame(X_test, columns=Predictors)\n",
    "y_train_df = pd.DataFrame(y_train, columns=Target)\n",
    "y_test_df = pd.DataFrame(y_test, columns=Target)\n",
    "\n",
    "# Add predictions to DataFrames\n",
    "train_data = X_train_df.copy()\n",
    "train_data['TARGET_deathRate'] = y_train_df\n",
    "train_data['prediction'] = adabRegModel.predict(X_train)\n",
    "\n",
    "test_data = X_test_df.copy()\n",
    "test_data['TARGET_deathRate'] = y_test_df\n",
    "test_data['prediction'] = adabPrediction\n",
    "\n",
    "# Set up column mapping for Evidently\n",
    "column_mapping = ColumnMapping()\n",
    "column_mapping.target = 'TARGET_deathRate'\n",
    "column_mapping.prediction = 'prediction'\n",
    "column_mapping.numerical_features = Predictors"
   ]
  },
  {
   "cell_type": "code",
   "execution_count": 46,
   "id": "ffc31803b80978d9",
   "metadata": {
    "ExecuteTime": {
     "end_time": "2024-11-17T23:20:56.457011Z",
     "start_time": "2024-11-17T23:20:55.549780Z"
    }
   },
   "outputs": [
    {
     "name": "stderr",
     "output_type": "stream",
     "text": [
      "/home/yzysnake/miniconda3/envs/Mlop/lib/python3.9/site-packages/sklearn/metrics/_regression.py:492: FutureWarning:\n",
      "\n",
      "'squared' is deprecated in version 1.4 and will be removed in 1.6. To calculate the root mean squared error, use the function'root_mean_squared_error'.\n",
      "\n",
      "/home/yzysnake/miniconda3/envs/Mlop/lib/python3.9/site-packages/sklearn/metrics/_regression.py:492: FutureWarning:\n",
      "\n",
      "'squared' is deprecated in version 1.4 and will be removed in 1.6. To calculate the root mean squared error, use the function'root_mean_squared_error'.\n",
      "\n",
      "/home/yzysnake/miniconda3/envs/Mlop/lib/python3.9/site-packages/sklearn/metrics/_regression.py:492: FutureWarning:\n",
      "\n",
      "'squared' is deprecated in version 1.4 and will be removed in 1.6. To calculate the root mean squared error, use the function'root_mean_squared_error'.\n",
      "\n",
      "/home/yzysnake/miniconda3/envs/Mlop/lib/python3.9/site-packages/sklearn/metrics/_regression.py:1211: UndefinedMetricWarning:\n",
      "\n",
      "R^2 score is not well-defined with less than two samples.\n",
      "\n",
      "/home/yzysnake/miniconda3/envs/Mlop/lib/python3.9/site-packages/sklearn/metrics/_regression.py:492: FutureWarning:\n",
      "\n",
      "'squared' is deprecated in version 1.4 and will be removed in 1.6. To calculate the root mean squared error, use the function'root_mean_squared_error'.\n",
      "\n",
      "/home/yzysnake/miniconda3/envs/Mlop/lib/python3.9/site-packages/sklearn/metrics/_regression.py:492: FutureWarning:\n",
      "\n",
      "'squared' is deprecated in version 1.4 and will be removed in 1.6. To calculate the root mean squared error, use the function'root_mean_squared_error'.\n",
      "\n",
      "/home/yzysnake/miniconda3/envs/Mlop/lib/python3.9/site-packages/sklearn/metrics/_regression.py:492: FutureWarning:\n",
      "\n",
      "'squared' is deprecated in version 1.4 and will be removed in 1.6. To calculate the root mean squared error, use the function'root_mean_squared_error'.\n",
      "\n",
      "/home/yzysnake/miniconda3/envs/Mlop/lib/python3.9/site-packages/sklearn/metrics/_regression.py:492: FutureWarning:\n",
      "\n",
      "'squared' is deprecated in version 1.4 and will be removed in 1.6. To calculate the root mean squared error, use the function'root_mean_squared_error'.\n",
      "\n",
      "/home/yzysnake/miniconda3/envs/Mlop/lib/python3.9/site-packages/sklearn/metrics/_regression.py:492: FutureWarning:\n",
      "\n",
      "'squared' is deprecated in version 1.4 and will be removed in 1.6. To calculate the root mean squared error, use the function'root_mean_squared_error'.\n",
      "\n",
      "/home/yzysnake/miniconda3/envs/Mlop/lib/python3.9/site-packages/sklearn/metrics/_regression.py:492: FutureWarning:\n",
      "\n",
      "'squared' is deprecated in version 1.4 and will be removed in 1.6. To calculate the root mean squared error, use the function'root_mean_squared_error'.\n",
      "\n",
      "/home/yzysnake/miniconda3/envs/Mlop/lib/python3.9/site-packages/sklearn/metrics/_regression.py:492: FutureWarning:\n",
      "\n",
      "'squared' is deprecated in version 1.4 and will be removed in 1.6. To calculate the root mean squared error, use the function'root_mean_squared_error'.\n",
      "\n",
      "/home/yzysnake/miniconda3/envs/Mlop/lib/python3.9/site-packages/sklearn/metrics/_regression.py:492: FutureWarning:\n",
      "\n",
      "'squared' is deprecated in version 1.4 and will be removed in 1.6. To calculate the root mean squared error, use the function'root_mean_squared_error'.\n",
      "\n",
      "/home/yzysnake/miniconda3/envs/Mlop/lib/python3.9/site-packages/sklearn/metrics/_regression.py:492: FutureWarning:\n",
      "\n",
      "'squared' is deprecated in version 1.4 and will be removed in 1.6. To calculate the root mean squared error, use the function'root_mean_squared_error'.\n",
      "\n",
      "/home/yzysnake/miniconda3/envs/Mlop/lib/python3.9/site-packages/sklearn/metrics/_regression.py:492: FutureWarning:\n",
      "\n",
      "'squared' is deprecated in version 1.4 and will be removed in 1.6. To calculate the root mean squared error, use the function'root_mean_squared_error'.\n",
      "\n",
      "/home/yzysnake/miniconda3/envs/Mlop/lib/python3.9/site-packages/sklearn/metrics/_regression.py:492: FutureWarning:\n",
      "\n",
      "'squared' is deprecated in version 1.4 and will be removed in 1.6. To calculate the root mean squared error, use the function'root_mean_squared_error'.\n",
      "\n",
      "/home/yzysnake/miniconda3/envs/Mlop/lib/python3.9/site-packages/sklearn/metrics/_regression.py:492: FutureWarning:\n",
      "\n",
      "'squared' is deprecated in version 1.4 and will be removed in 1.6. To calculate the root mean squared error, use the function'root_mean_squared_error'.\n",
      "\n",
      "/home/yzysnake/miniconda3/envs/Mlop/lib/python3.9/site-packages/sklearn/metrics/_regression.py:492: FutureWarning:\n",
      "\n",
      "'squared' is deprecated in version 1.4 and will be removed in 1.6. To calculate the root mean squared error, use the function'root_mean_squared_error'.\n",
      "\n",
      "/home/yzysnake/miniconda3/envs/Mlop/lib/python3.9/site-packages/sklearn/metrics/_regression.py:492: FutureWarning:\n",
      "\n",
      "'squared' is deprecated in version 1.4 and will be removed in 1.6. To calculate the root mean squared error, use the function'root_mean_squared_error'.\n",
      "\n",
      "/home/yzysnake/miniconda3/envs/Mlop/lib/python3.9/site-packages/sklearn/metrics/_regression.py:492: FutureWarning:\n",
      "\n",
      "'squared' is deprecated in version 1.4 and will be removed in 1.6. To calculate the root mean squared error, use the function'root_mean_squared_error'.\n",
      "\n",
      "/home/yzysnake/miniconda3/envs/Mlop/lib/python3.9/site-packages/sklearn/metrics/_regression.py:492: FutureWarning:\n",
      "\n",
      "'squared' is deprecated in version 1.4 and will be removed in 1.6. To calculate the root mean squared error, use the function'root_mean_squared_error'.\n",
      "\n"
     ]
    },
    {
     "name": "stdout",
     "output_type": "stream",
     "text": [
      "Initial report saved as 'report_initial.html'.\n"
     ]
    }
   ],
   "source": [
    "### Generate Initial Evidently Report\n",
    "report = Report(metrics=[DataDriftPreset(), RegressionPreset()])\n",
    "report.run(reference_data=train_data, current_data=test_data, column_mapping=column_mapping)\n",
    "report.save_html('report_initial.html')\n",
    "print(\"Initial report saved as 'report_initial.html'.\")"
   ]
  },
  {
   "cell_type": "markdown",
   "id": "528b40ede7e87d02",
   "metadata": {},
   "source": [
    "### Instance A: Decrease 'medIncome' by $40,000"
   ]
  },
  {
   "cell_type": "code",
   "execution_count": 48,
   "id": "b456dbb862769d7c",
   "metadata": {
    "ExecuteTime": {
     "end_time": "2024-11-17T23:20:58.968552Z",
     "start_time": "2024-11-17T23:20:58.943295Z"
    }
   },
   "outputs": [
    {
     "name": "stdout",
     "output_type": "stream",
     "text": [
      "Accuracy after modification A: 91.00766014399844\n"
     ]
    },
    {
     "name": "stderr",
     "output_type": "stream",
     "text": [
      "/home/yzysnake/miniconda3/envs/Mlop/lib/python3.9/site-packages/sklearn/base.py:486: UserWarning:\n",
      "\n",
      "X has feature names, but AdaBoostRegressor was fitted without feature names\n",
      "\n"
     ]
    }
   ],
   "source": [
    "# Create a copy of the test dataset\n",
    "X_test_mod1 = X_test_df.copy()\n",
    "X_test_mod1['medIncome'] = X_test_mod1['medIncome'] - 40000\n",
    "X_test_mod1['medIncome'] = X_test_mod1['medIncome'].clip(lower=0)  # Ensure no negative incomes\n",
    "\n",
    "# Run the model on modified data\n",
    "adabPrediction_mod1 = adabRegModel.predict(X_test_mod1)\n",
    "\n",
    "# Evaluate the accuracy\n",
    "accuracy_mod1 = 100 - (np.mean((np.abs(y_test - adabPrediction_mod1) / y_test)) * 100)\n",
    "print('Accuracy after modification A:', accuracy_mod1)\n",
    "\n",
    "# Prepare data for Evidently\n",
    "test_data_mod1 = X_test_mod1.copy()\n",
    "test_data_mod1['TARGET_deathRate'] = y_test_df\n",
    "test_data_mod1['prediction'] = adabPrediction_mod1"
   ]
  },
  {
   "cell_type": "code",
   "execution_count": 49,
   "id": "4cf9d5ef44e2c31b",
   "metadata": {
    "ExecuteTime": {
     "end_time": "2024-11-17T23:21:00.136843Z",
     "start_time": "2024-11-17T23:20:59.148965Z"
    }
   },
   "outputs": [
    {
     "name": "stderr",
     "output_type": "stream",
     "text": [
      "/home/yzysnake/miniconda3/envs/Mlop/lib/python3.9/site-packages/sklearn/metrics/_regression.py:492: FutureWarning:\n",
      "\n",
      "'squared' is deprecated in version 1.4 and will be removed in 1.6. To calculate the root mean squared error, use the function'root_mean_squared_error'.\n",
      "\n",
      "/home/yzysnake/miniconda3/envs/Mlop/lib/python3.9/site-packages/sklearn/metrics/_regression.py:492: FutureWarning:\n",
      "\n",
      "'squared' is deprecated in version 1.4 and will be removed in 1.6. To calculate the root mean squared error, use the function'root_mean_squared_error'.\n",
      "\n",
      "/home/yzysnake/miniconda3/envs/Mlop/lib/python3.9/site-packages/sklearn/metrics/_regression.py:492: FutureWarning:\n",
      "\n",
      "'squared' is deprecated in version 1.4 and will be removed in 1.6. To calculate the root mean squared error, use the function'root_mean_squared_error'.\n",
      "\n",
      "/home/yzysnake/miniconda3/envs/Mlop/lib/python3.9/site-packages/sklearn/metrics/_regression.py:492: FutureWarning:\n",
      "\n",
      "'squared' is deprecated in version 1.4 and will be removed in 1.6. To calculate the root mean squared error, use the function'root_mean_squared_error'.\n",
      "\n",
      "/home/yzysnake/miniconda3/envs/Mlop/lib/python3.9/site-packages/sklearn/metrics/_regression.py:492: FutureWarning:\n",
      "\n",
      "'squared' is deprecated in version 1.4 and will be removed in 1.6. To calculate the root mean squared error, use the function'root_mean_squared_error'.\n",
      "\n",
      "/home/yzysnake/miniconda3/envs/Mlop/lib/python3.9/site-packages/sklearn/metrics/_regression.py:492: FutureWarning:\n",
      "\n",
      "'squared' is deprecated in version 1.4 and will be removed in 1.6. To calculate the root mean squared error, use the function'root_mean_squared_error'.\n",
      "\n",
      "/home/yzysnake/miniconda3/envs/Mlop/lib/python3.9/site-packages/sklearn/metrics/_regression.py:492: FutureWarning:\n",
      "\n",
      "'squared' is deprecated in version 1.4 and will be removed in 1.6. To calculate the root mean squared error, use the function'root_mean_squared_error'.\n",
      "\n",
      "/home/yzysnake/miniconda3/envs/Mlop/lib/python3.9/site-packages/sklearn/metrics/_regression.py:492: FutureWarning:\n",
      "\n",
      "'squared' is deprecated in version 1.4 and will be removed in 1.6. To calculate the root mean squared error, use the function'root_mean_squared_error'.\n",
      "\n",
      "/home/yzysnake/miniconda3/envs/Mlop/lib/python3.9/site-packages/sklearn/metrics/_regression.py:492: FutureWarning:\n",
      "\n",
      "'squared' is deprecated in version 1.4 and will be removed in 1.6. To calculate the root mean squared error, use the function'root_mean_squared_error'.\n",
      "\n",
      "/home/yzysnake/miniconda3/envs/Mlop/lib/python3.9/site-packages/sklearn/metrics/_regression.py:492: FutureWarning:\n",
      "\n",
      "'squared' is deprecated in version 1.4 and will be removed in 1.6. To calculate the root mean squared error, use the function'root_mean_squared_error'.\n",
      "\n",
      "/home/yzysnake/miniconda3/envs/Mlop/lib/python3.9/site-packages/sklearn/metrics/_regression.py:492: FutureWarning:\n",
      "\n",
      "'squared' is deprecated in version 1.4 and will be removed in 1.6. To calculate the root mean squared error, use the function'root_mean_squared_error'.\n",
      "\n",
      "/home/yzysnake/miniconda3/envs/Mlop/lib/python3.9/site-packages/sklearn/metrics/_regression.py:492: FutureWarning:\n",
      "\n",
      "'squared' is deprecated in version 1.4 and will be removed in 1.6. To calculate the root mean squared error, use the function'root_mean_squared_error'.\n",
      "\n",
      "/home/yzysnake/miniconda3/envs/Mlop/lib/python3.9/site-packages/sklearn/metrics/_regression.py:492: FutureWarning:\n",
      "\n",
      "'squared' is deprecated in version 1.4 and will be removed in 1.6. To calculate the root mean squared error, use the function'root_mean_squared_error'.\n",
      "\n",
      "/home/yzysnake/miniconda3/envs/Mlop/lib/python3.9/site-packages/sklearn/metrics/_regression.py:492: FutureWarning:\n",
      "\n",
      "'squared' is deprecated in version 1.4 and will be removed in 1.6. To calculate the root mean squared error, use the function'root_mean_squared_error'.\n",
      "\n",
      "/home/yzysnake/miniconda3/envs/Mlop/lib/python3.9/site-packages/sklearn/metrics/_regression.py:492: FutureWarning:\n",
      "\n",
      "'squared' is deprecated in version 1.4 and will be removed in 1.6. To calculate the root mean squared error, use the function'root_mean_squared_error'.\n",
      "\n",
      "/home/yzysnake/miniconda3/envs/Mlop/lib/python3.9/site-packages/sklearn/metrics/_regression.py:492: FutureWarning:\n",
      "\n",
      "'squared' is deprecated in version 1.4 and will be removed in 1.6. To calculate the root mean squared error, use the function'root_mean_squared_error'.\n",
      "\n",
      "/home/yzysnake/miniconda3/envs/Mlop/lib/python3.9/site-packages/sklearn/metrics/_regression.py:492: FutureWarning:\n",
      "\n",
      "'squared' is deprecated in version 1.4 and will be removed in 1.6. To calculate the root mean squared error, use the function'root_mean_squared_error'.\n",
      "\n",
      "/home/yzysnake/miniconda3/envs/Mlop/lib/python3.9/site-packages/sklearn/metrics/_regression.py:492: FutureWarning:\n",
      "\n",
      "'squared' is deprecated in version 1.4 and will be removed in 1.6. To calculate the root mean squared error, use the function'root_mean_squared_error'.\n",
      "\n",
      "/home/yzysnake/miniconda3/envs/Mlop/lib/python3.9/site-packages/sklearn/metrics/_regression.py:492: FutureWarning:\n",
      "\n",
      "'squared' is deprecated in version 1.4 and will be removed in 1.6. To calculate the root mean squared error, use the function'root_mean_squared_error'.\n",
      "\n",
      "/home/yzysnake/miniconda3/envs/Mlop/lib/python3.9/site-packages/sklearn/metrics/_regression.py:492: FutureWarning:\n",
      "\n",
      "'squared' is deprecated in version 1.4 and will be removed in 1.6. To calculate the root mean squared error, use the function'root_mean_squared_error'.\n",
      "\n",
      "/home/yzysnake/miniconda3/envs/Mlop/lib/python3.9/site-packages/sklearn/metrics/_regression.py:492: FutureWarning:\n",
      "\n",
      "'squared' is deprecated in version 1.4 and will be removed in 1.6. To calculate the root mean squared error, use the function'root_mean_squared_error'.\n",
      "\n",
      "/home/yzysnake/miniconda3/envs/Mlop/lib/python3.9/site-packages/sklearn/metrics/_regression.py:492: FutureWarning:\n",
      "\n",
      "'squared' is deprecated in version 1.4 and will be removed in 1.6. To calculate the root mean squared error, use the function'root_mean_squared_error'.\n",
      "\n",
      "/home/yzysnake/miniconda3/envs/Mlop/lib/python3.9/site-packages/sklearn/metrics/_regression.py:492: FutureWarning:\n",
      "\n",
      "'squared' is deprecated in version 1.4 and will be removed in 1.6. To calculate the root mean squared error, use the function'root_mean_squared_error'.\n",
      "\n"
     ]
    },
    {
     "name": "stdout",
     "output_type": "stream",
     "text": [
      "Report after modification A saved as 'report_mod1.html'.\n"
     ]
    }
   ],
   "source": [
    "# Generate Evidently report\n",
    "report_mod1 = Report(metrics=[DataDriftPreset(), RegressionPreset()])\n",
    "report_mod1.run(reference_data=test_data, current_data=test_data_mod1, column_mapping=column_mapping)\n",
    "report_mod1.save_html('report_mod1.html')\n",
    "print(\"Report after modification A saved as 'report_mod1.html'.\")"
   ]
  },
  {
   "cell_type": "markdown",
   "id": "fbb027a5ebce2368",
   "metadata": {},
   "source": [
    "### Instance A & B: Decrease 'medIncome' and Increase 'povertyPercent' by 20 Points"
   ]
  },
  {
   "cell_type": "code",
   "execution_count": 50,
   "id": "74159781228fc6d5",
   "metadata": {
    "ExecuteTime": {
     "end_time": "2024-11-17T23:21:00.163211Z",
     "start_time": "2024-11-17T23:21:00.137867Z"
    }
   },
   "outputs": [
    {
     "name": "stdout",
     "output_type": "stream",
     "text": [
      "Accuracy after modification A & B: 90.30134269534997\n"
     ]
    },
    {
     "name": "stderr",
     "output_type": "stream",
     "text": [
      "/home/yzysnake/miniconda3/envs/Mlop/lib/python3.9/site-packages/sklearn/base.py:486: UserWarning:\n",
      "\n",
      "X has feature names, but AdaBoostRegressor was fitted without feature names\n",
      "\n"
     ]
    }
   ],
   "source": [
    "# Create a copy of the modified dataset from Instance A\n",
    "X_test_mod2 = X_test_mod1.copy()\n",
    "X_test_mod2['povertyPercent'] = X_test_mod2['povertyPercent'] + 20\n",
    "X_test_mod2['povertyPercent'] = X_test_mod2['povertyPercent'].clip(upper=100)  # Ensure max 100%\n",
    "\n",
    "# Run the model on modified data\n",
    "adabPrediction_mod2 = adabRegModel.predict(X_test_mod2)\n",
    "\n",
    "# Evaluate the accuracy\n",
    "accuracy_mod2 = 100 - (np.mean((np.abs(y_test - adabPrediction_mod2) / y_test)) * 100)\n",
    "print('Accuracy after modification A & B:', accuracy_mod2)\n",
    "\n",
    "# Prepare data for Evidently\n",
    "test_data_mod2 = X_test_mod2.copy()\n",
    "test_data_mod2['TARGET_deathRate'] = y_test_df\n",
    "test_data_mod2['prediction'] = adabPrediction_mod2"
   ]
  },
  {
   "cell_type": "code",
   "execution_count": 51,
   "id": "68f72531141350dc",
   "metadata": {
    "ExecuteTime": {
     "end_time": "2024-11-17T23:21:01.317204Z",
     "start_time": "2024-11-17T23:21:00.425442Z"
    }
   },
   "outputs": [
    {
     "name": "stderr",
     "output_type": "stream",
     "text": [
      "/home/yzysnake/miniconda3/envs/Mlop/lib/python3.9/site-packages/sklearn/metrics/_regression.py:492: FutureWarning:\n",
      "\n",
      "'squared' is deprecated in version 1.4 and will be removed in 1.6. To calculate the root mean squared error, use the function'root_mean_squared_error'.\n",
      "\n",
      "/home/yzysnake/miniconda3/envs/Mlop/lib/python3.9/site-packages/sklearn/metrics/_regression.py:492: FutureWarning:\n",
      "\n",
      "'squared' is deprecated in version 1.4 and will be removed in 1.6. To calculate the root mean squared error, use the function'root_mean_squared_error'.\n",
      "\n",
      "/home/yzysnake/miniconda3/envs/Mlop/lib/python3.9/site-packages/sklearn/metrics/_regression.py:492: FutureWarning:\n",
      "\n",
      "'squared' is deprecated in version 1.4 and will be removed in 1.6. To calculate the root mean squared error, use the function'root_mean_squared_error'.\n",
      "\n",
      "/home/yzysnake/miniconda3/envs/Mlop/lib/python3.9/site-packages/sklearn/metrics/_regression.py:492: FutureWarning:\n",
      "\n",
      "'squared' is deprecated in version 1.4 and will be removed in 1.6. To calculate the root mean squared error, use the function'root_mean_squared_error'.\n",
      "\n",
      "/home/yzysnake/miniconda3/envs/Mlop/lib/python3.9/site-packages/sklearn/metrics/_regression.py:492: FutureWarning:\n",
      "\n",
      "'squared' is deprecated in version 1.4 and will be removed in 1.6. To calculate the root mean squared error, use the function'root_mean_squared_error'.\n",
      "\n",
      "/home/yzysnake/miniconda3/envs/Mlop/lib/python3.9/site-packages/sklearn/metrics/_regression.py:492: FutureWarning:\n",
      "\n",
      "'squared' is deprecated in version 1.4 and will be removed in 1.6. To calculate the root mean squared error, use the function'root_mean_squared_error'.\n",
      "\n",
      "/home/yzysnake/miniconda3/envs/Mlop/lib/python3.9/site-packages/sklearn/metrics/_regression.py:492: FutureWarning:\n",
      "\n",
      "'squared' is deprecated in version 1.4 and will be removed in 1.6. To calculate the root mean squared error, use the function'root_mean_squared_error'.\n",
      "\n",
      "/home/yzysnake/miniconda3/envs/Mlop/lib/python3.9/site-packages/sklearn/metrics/_regression.py:492: FutureWarning:\n",
      "\n",
      "'squared' is deprecated in version 1.4 and will be removed in 1.6. To calculate the root mean squared error, use the function'root_mean_squared_error'.\n",
      "\n",
      "/home/yzysnake/miniconda3/envs/Mlop/lib/python3.9/site-packages/sklearn/metrics/_regression.py:492: FutureWarning:\n",
      "\n",
      "'squared' is deprecated in version 1.4 and will be removed in 1.6. To calculate the root mean squared error, use the function'root_mean_squared_error'.\n",
      "\n",
      "/home/yzysnake/miniconda3/envs/Mlop/lib/python3.9/site-packages/sklearn/metrics/_regression.py:492: FutureWarning:\n",
      "\n",
      "'squared' is deprecated in version 1.4 and will be removed in 1.6. To calculate the root mean squared error, use the function'root_mean_squared_error'.\n",
      "\n",
      "/home/yzysnake/miniconda3/envs/Mlop/lib/python3.9/site-packages/sklearn/metrics/_regression.py:492: FutureWarning:\n",
      "\n",
      "'squared' is deprecated in version 1.4 and will be removed in 1.6. To calculate the root mean squared error, use the function'root_mean_squared_error'.\n",
      "\n",
      "/home/yzysnake/miniconda3/envs/Mlop/lib/python3.9/site-packages/sklearn/metrics/_regression.py:492: FutureWarning:\n",
      "\n",
      "'squared' is deprecated in version 1.4 and will be removed in 1.6. To calculate the root mean squared error, use the function'root_mean_squared_error'.\n",
      "\n",
      "/home/yzysnake/miniconda3/envs/Mlop/lib/python3.9/site-packages/sklearn/metrics/_regression.py:492: FutureWarning:\n",
      "\n",
      "'squared' is deprecated in version 1.4 and will be removed in 1.6. To calculate the root mean squared error, use the function'root_mean_squared_error'.\n",
      "\n",
      "/home/yzysnake/miniconda3/envs/Mlop/lib/python3.9/site-packages/sklearn/metrics/_regression.py:492: FutureWarning:\n",
      "\n",
      "'squared' is deprecated in version 1.4 and will be removed in 1.6. To calculate the root mean squared error, use the function'root_mean_squared_error'.\n",
      "\n",
      "/home/yzysnake/miniconda3/envs/Mlop/lib/python3.9/site-packages/sklearn/metrics/_regression.py:492: FutureWarning:\n",
      "\n",
      "'squared' is deprecated in version 1.4 and will be removed in 1.6. To calculate the root mean squared error, use the function'root_mean_squared_error'.\n",
      "\n",
      "/home/yzysnake/miniconda3/envs/Mlop/lib/python3.9/site-packages/sklearn/metrics/_regression.py:492: FutureWarning:\n",
      "\n",
      "'squared' is deprecated in version 1.4 and will be removed in 1.6. To calculate the root mean squared error, use the function'root_mean_squared_error'.\n",
      "\n",
      "/home/yzysnake/miniconda3/envs/Mlop/lib/python3.9/site-packages/sklearn/metrics/_regression.py:492: FutureWarning:\n",
      "\n",
      "'squared' is deprecated in version 1.4 and will be removed in 1.6. To calculate the root mean squared error, use the function'root_mean_squared_error'.\n",
      "\n",
      "/home/yzysnake/miniconda3/envs/Mlop/lib/python3.9/site-packages/sklearn/metrics/_regression.py:492: FutureWarning:\n",
      "\n",
      "'squared' is deprecated in version 1.4 and will be removed in 1.6. To calculate the root mean squared error, use the function'root_mean_squared_error'.\n",
      "\n",
      "/home/yzysnake/miniconda3/envs/Mlop/lib/python3.9/site-packages/sklearn/metrics/_regression.py:492: FutureWarning:\n",
      "\n",
      "'squared' is deprecated in version 1.4 and will be removed in 1.6. To calculate the root mean squared error, use the function'root_mean_squared_error'.\n",
      "\n",
      "/home/yzysnake/miniconda3/envs/Mlop/lib/python3.9/site-packages/sklearn/metrics/_regression.py:492: FutureWarning:\n",
      "\n",
      "'squared' is deprecated in version 1.4 and will be removed in 1.6. To calculate the root mean squared error, use the function'root_mean_squared_error'.\n",
      "\n",
      "/home/yzysnake/miniconda3/envs/Mlop/lib/python3.9/site-packages/sklearn/metrics/_regression.py:492: FutureWarning:\n",
      "\n",
      "'squared' is deprecated in version 1.4 and will be removed in 1.6. To calculate the root mean squared error, use the function'root_mean_squared_error'.\n",
      "\n",
      "/home/yzysnake/miniconda3/envs/Mlop/lib/python3.9/site-packages/sklearn/metrics/_regression.py:492: FutureWarning:\n",
      "\n",
      "'squared' is deprecated in version 1.4 and will be removed in 1.6. To calculate the root mean squared error, use the function'root_mean_squared_error'.\n",
      "\n",
      "/home/yzysnake/miniconda3/envs/Mlop/lib/python3.9/site-packages/sklearn/metrics/_regression.py:492: FutureWarning:\n",
      "\n",
      "'squared' is deprecated in version 1.4 and will be removed in 1.6. To calculate the root mean squared error, use the function'root_mean_squared_error'.\n",
      "\n"
     ]
    },
    {
     "name": "stdout",
     "output_type": "stream",
     "text": [
      "Report after modifications A & B saved as 'report_mod2.html'.\n"
     ]
    }
   ],
   "source": [
    "# Generate Evidently report\n",
    "report_mod2 = Report(metrics=[DataDriftPreset(), RegressionPreset()])\n",
    "report_mod2.run(reference_data=test_data, current_data=test_data_mod2, column_mapping=column_mapping)\n",
    "report_mod2.save_html('report_mod2.html')\n",
    "print(\"Report after modifications A & B saved as 'report_mod2.html'.\")"
   ]
  },
  {
   "cell_type": "markdown",
   "id": "30406aabb06050fc",
   "metadata": {},
   "source": [
    "### Instance A, B & C: Also Increase 'avgHouseholdSize' by 2"
   ]
  },
  {
   "cell_type": "code",
   "execution_count": 52,
   "id": "964c195ee4fcfb83",
   "metadata": {
    "ExecuteTime": {
     "end_time": "2024-11-17T23:21:01.656443Z",
     "start_time": "2024-11-17T23:21:01.632121Z"
    }
   },
   "outputs": [
    {
     "name": "stdout",
     "output_type": "stream",
     "text": [
      "Accuracy after modifications A, B & C: 90.49734203560071\n"
     ]
    },
    {
     "name": "stderr",
     "output_type": "stream",
     "text": [
      "/home/yzysnake/miniconda3/envs/Mlop/lib/python3.9/site-packages/sklearn/base.py:486: UserWarning:\n",
      "\n",
      "X has feature names, but AdaBoostRegressor was fitted without feature names\n",
      "\n"
     ]
    }
   ],
   "source": [
    "# Create a copy of the modified dataset from Instance A & B\n",
    "X_test_mod3 = X_test_mod2.copy()\n",
    "X_test_mod3['AvgHouseholdSize'] = X_test_mod3['AvgHouseholdSize'] + 2\n",
    "\n",
    "# Run the model on modified data\n",
    "adabPrediction_mod3 = adabRegModel.predict(X_test_mod3)\n",
    "\n",
    "# Evaluate the accuracy\n",
    "accuracy_mod3 = 100 - (np.mean((np.abs(y_test - adabPrediction_mod3) / y_test)) * 100)\n",
    "print('Accuracy after modifications A, B & C:', accuracy_mod3)\n",
    "\n",
    "# Prepare data for Evidently\n",
    "test_data_mod3 = X_test_mod3.copy()\n",
    "test_data_mod3['TARGET_deathRate'] = y_test_df\n",
    "test_data_mod3['prediction'] = adabPrediction_mod3"
   ]
  },
  {
   "cell_type": "code",
   "execution_count": 53,
   "id": "333c557e0da3b868",
   "metadata": {
    "ExecuteTime": {
     "end_time": "2024-11-17T23:21:05.867342Z",
     "start_time": "2024-11-17T23:21:04.983413Z"
    }
   },
   "outputs": [
    {
     "name": "stderr",
     "output_type": "stream",
     "text": [
      "/home/yzysnake/miniconda3/envs/Mlop/lib/python3.9/site-packages/sklearn/metrics/_regression.py:492: FutureWarning:\n",
      "\n",
      "'squared' is deprecated in version 1.4 and will be removed in 1.6. To calculate the root mean squared error, use the function'root_mean_squared_error'.\n",
      "\n",
      "/home/yzysnake/miniconda3/envs/Mlop/lib/python3.9/site-packages/sklearn/metrics/_regression.py:492: FutureWarning:\n",
      "\n",
      "'squared' is deprecated in version 1.4 and will be removed in 1.6. To calculate the root mean squared error, use the function'root_mean_squared_error'.\n",
      "\n",
      "/home/yzysnake/miniconda3/envs/Mlop/lib/python3.9/site-packages/sklearn/metrics/_regression.py:492: FutureWarning:\n",
      "\n",
      "'squared' is deprecated in version 1.4 and will be removed in 1.6. To calculate the root mean squared error, use the function'root_mean_squared_error'.\n",
      "\n",
      "/home/yzysnake/miniconda3/envs/Mlop/lib/python3.9/site-packages/sklearn/metrics/_regression.py:492: FutureWarning:\n",
      "\n",
      "'squared' is deprecated in version 1.4 and will be removed in 1.6. To calculate the root mean squared error, use the function'root_mean_squared_error'.\n",
      "\n",
      "/home/yzysnake/miniconda3/envs/Mlop/lib/python3.9/site-packages/sklearn/metrics/_regression.py:492: FutureWarning:\n",
      "\n",
      "'squared' is deprecated in version 1.4 and will be removed in 1.6. To calculate the root mean squared error, use the function'root_mean_squared_error'.\n",
      "\n",
      "/home/yzysnake/miniconda3/envs/Mlop/lib/python3.9/site-packages/sklearn/metrics/_regression.py:492: FutureWarning:\n",
      "\n",
      "'squared' is deprecated in version 1.4 and will be removed in 1.6. To calculate the root mean squared error, use the function'root_mean_squared_error'.\n",
      "\n",
      "/home/yzysnake/miniconda3/envs/Mlop/lib/python3.9/site-packages/sklearn/metrics/_regression.py:492: FutureWarning:\n",
      "\n",
      "'squared' is deprecated in version 1.4 and will be removed in 1.6. To calculate the root mean squared error, use the function'root_mean_squared_error'.\n",
      "\n",
      "/home/yzysnake/miniconda3/envs/Mlop/lib/python3.9/site-packages/sklearn/metrics/_regression.py:492: FutureWarning:\n",
      "\n",
      "'squared' is deprecated in version 1.4 and will be removed in 1.6. To calculate the root mean squared error, use the function'root_mean_squared_error'.\n",
      "\n",
      "/home/yzysnake/miniconda3/envs/Mlop/lib/python3.9/site-packages/sklearn/metrics/_regression.py:492: FutureWarning:\n",
      "\n",
      "'squared' is deprecated in version 1.4 and will be removed in 1.6. To calculate the root mean squared error, use the function'root_mean_squared_error'.\n",
      "\n",
      "/home/yzysnake/miniconda3/envs/Mlop/lib/python3.9/site-packages/sklearn/metrics/_regression.py:492: FutureWarning:\n",
      "\n",
      "'squared' is deprecated in version 1.4 and will be removed in 1.6. To calculate the root mean squared error, use the function'root_mean_squared_error'.\n",
      "\n",
      "/home/yzysnake/miniconda3/envs/Mlop/lib/python3.9/site-packages/sklearn/metrics/_regression.py:492: FutureWarning:\n",
      "\n",
      "'squared' is deprecated in version 1.4 and will be removed in 1.6. To calculate the root mean squared error, use the function'root_mean_squared_error'.\n",
      "\n",
      "/home/yzysnake/miniconda3/envs/Mlop/lib/python3.9/site-packages/sklearn/metrics/_regression.py:492: FutureWarning:\n",
      "\n",
      "'squared' is deprecated in version 1.4 and will be removed in 1.6. To calculate the root mean squared error, use the function'root_mean_squared_error'.\n",
      "\n",
      "/home/yzysnake/miniconda3/envs/Mlop/lib/python3.9/site-packages/sklearn/metrics/_regression.py:492: FutureWarning:\n",
      "\n",
      "'squared' is deprecated in version 1.4 and will be removed in 1.6. To calculate the root mean squared error, use the function'root_mean_squared_error'.\n",
      "\n",
      "/home/yzysnake/miniconda3/envs/Mlop/lib/python3.9/site-packages/sklearn/metrics/_regression.py:492: FutureWarning:\n",
      "\n",
      "'squared' is deprecated in version 1.4 and will be removed in 1.6. To calculate the root mean squared error, use the function'root_mean_squared_error'.\n",
      "\n",
      "/home/yzysnake/miniconda3/envs/Mlop/lib/python3.9/site-packages/sklearn/metrics/_regression.py:492: FutureWarning:\n",
      "\n",
      "'squared' is deprecated in version 1.4 and will be removed in 1.6. To calculate the root mean squared error, use the function'root_mean_squared_error'.\n",
      "\n",
      "/home/yzysnake/miniconda3/envs/Mlop/lib/python3.9/site-packages/sklearn/metrics/_regression.py:492: FutureWarning:\n",
      "\n",
      "'squared' is deprecated in version 1.4 and will be removed in 1.6. To calculate the root mean squared error, use the function'root_mean_squared_error'.\n",
      "\n",
      "/home/yzysnake/miniconda3/envs/Mlop/lib/python3.9/site-packages/sklearn/metrics/_regression.py:492: FutureWarning:\n",
      "\n",
      "'squared' is deprecated in version 1.4 and will be removed in 1.6. To calculate the root mean squared error, use the function'root_mean_squared_error'.\n",
      "\n",
      "/home/yzysnake/miniconda3/envs/Mlop/lib/python3.9/site-packages/sklearn/metrics/_regression.py:492: FutureWarning:\n",
      "\n",
      "'squared' is deprecated in version 1.4 and will be removed in 1.6. To calculate the root mean squared error, use the function'root_mean_squared_error'.\n",
      "\n",
      "/home/yzysnake/miniconda3/envs/Mlop/lib/python3.9/site-packages/sklearn/metrics/_regression.py:492: FutureWarning:\n",
      "\n",
      "'squared' is deprecated in version 1.4 and will be removed in 1.6. To calculate the root mean squared error, use the function'root_mean_squared_error'.\n",
      "\n",
      "/home/yzysnake/miniconda3/envs/Mlop/lib/python3.9/site-packages/sklearn/metrics/_regression.py:492: FutureWarning:\n",
      "\n",
      "'squared' is deprecated in version 1.4 and will be removed in 1.6. To calculate the root mean squared error, use the function'root_mean_squared_error'.\n",
      "\n",
      "/home/yzysnake/miniconda3/envs/Mlop/lib/python3.9/site-packages/sklearn/metrics/_regression.py:492: FutureWarning:\n",
      "\n",
      "'squared' is deprecated in version 1.4 and will be removed in 1.6. To calculate the root mean squared error, use the function'root_mean_squared_error'.\n",
      "\n",
      "/home/yzysnake/miniconda3/envs/Mlop/lib/python3.9/site-packages/sklearn/metrics/_regression.py:492: FutureWarning:\n",
      "\n",
      "'squared' is deprecated in version 1.4 and will be removed in 1.6. To calculate the root mean squared error, use the function'root_mean_squared_error'.\n",
      "\n",
      "/home/yzysnake/miniconda3/envs/Mlop/lib/python3.9/site-packages/sklearn/metrics/_regression.py:492: FutureWarning:\n",
      "\n",
      "'squared' is deprecated in version 1.4 and will be removed in 1.6. To calculate the root mean squared error, use the function'root_mean_squared_error'.\n",
      "\n"
     ]
    },
    {
     "name": "stdout",
     "output_type": "stream",
     "text": [
      "Report after modifications A, B & C saved as 'report_mod3.html'.\n"
     ]
    }
   ],
   "source": [
    "# Generate Evidently report\n",
    "report_mod3 = Report(metrics=[DataDriftPreset(), RegressionPreset()])\n",
    "report_mod3.run(reference_data=test_data, current_data=test_data_mod3, column_mapping=column_mapping)\n",
    "report_mod3.save_html('report_mod3.html')\n",
    "print(\"Report after modifications A, B & C saved as 'report_mod3.html'.\")"
   ]
  },
  {
   "cell_type": "code",
   "execution_count": 34,
   "id": "33381dd025cfd748",
   "metadata": {
    "ExecuteTime": {
     "end_time": "2024-11-17T23:17:59.899418Z",
     "start_time": "2024-11-17T23:17:59.897385Z"
    }
   },
   "outputs": [],
   "source": []
  }
 ],
 "metadata": {
  "kernelspec": {
   "display_name": "Python 3 (ipykernel)",
   "language": "python",
   "name": "python3"
  },
  "language_info": {
   "codemirror_mode": {
    "name": "ipython",
    "version": 3
   },
   "file_extension": ".py",
   "mimetype": "text/x-python",
   "name": "python",
   "nbconvert_exporter": "python",
   "pygments_lexer": "ipython3",
   "version": "3.9.20"
  }
 },
 "nbformat": 4,
 "nbformat_minor": 5
}
